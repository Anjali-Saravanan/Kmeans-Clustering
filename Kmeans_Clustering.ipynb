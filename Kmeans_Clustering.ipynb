{
  "nbformat": 4,
  "nbformat_minor": 0,
  "metadata": {
    "colab": {
      "name": "Kmeans Clustering.ipynb",
      "provenance": [],
      "collapsed_sections": [],
      "authorship_tag": "ABX9TyOl3r2wftrEOMu7KnXTtB2f",
      "include_colab_link": true
    },
    "kernelspec": {
      "name": "python3",
      "display_name": "Python 3"
    },
    "language_info": {
      "name": "python"
    }
  },
  "cells": [
    {
      "cell_type": "markdown",
      "metadata": {
        "id": "view-in-github",
        "colab_type": "text"
      },
      "source": [
        "<a href=\"https://colab.research.google.com/github/Anjali-Saravanan/Kmeans-Clustering/blob/main/Kmeans_Clustering.ipynb\" target=\"_parent\"><img src=\"https://colab.research.google.com/assets/colab-badge.svg\" alt=\"Open In Colab\"/></a>"
      ]
    },
    {
      "cell_type": "code",
      "execution_count": 1,
      "metadata": {
        "id": "vrkqRX89NkML"
      },
      "outputs": [],
      "source": [
        "#kmeans clustering\n",
        "import pandas as pd\n",
        "import numpy as np\n",
        "import matplotlib.pyplot as plt\n",
        "from sklearn.cluster import KMeans"
      ]
    },
    {
      "cell_type": "code",
      "source": [
        "#upload the dataset\n",
        "df = pd.read_csv('/content/Iris.csv')\n",
        "df.head(5)"
      ],
      "metadata": {
        "id": "ixUu240IOBN9"
      },
      "execution_count": null,
      "outputs": []
    },
    {
      "cell_type": "code",
      "source": [
        "#replacing categorical values to numerical values\n",
        "df.Species.replace({'Iris-setosa':0,'Iris-versicolor':1, 'Iris-virginica':2},inplace= True)"
      ],
      "metadata": {
        "id": "CbMXHpiROL-r"
      },
      "execution_count": 3,
      "outputs": []
    },
    {
      "cell_type": "code",
      "source": [
        "df.head(5)"
      ],
      "metadata": {
        "id": "4Xic0E6COPZj"
      },
      "execution_count": null,
      "outputs": []
    },
    {
      "cell_type": "code",
      "source": [
        "#value of k=3\n",
        "kmeans3 = KMeans(n_clusters=3)\n",
        "y_kmeans = kmeans3.fit_predict(df)\n",
        "print(y_kmeans)\n",
        "kmeans3.cluster_centers_"
      ],
      "metadata": {
        "id": "zKfhazO4OSIr"
      },
      "execution_count": null,
      "outputs": []
    },
    {
      "cell_type": "code",
      "source": [
        "plt.scatter(df['SepalLengthCm'],df['PetalLengthCm'],c = y_kmeans,cmap = 'rainbow')"
      ],
      "metadata": {
        "id": "bFOuxVI1OV4L"
      },
      "execution_count": null,
      "outputs": []
    }
  ]
}